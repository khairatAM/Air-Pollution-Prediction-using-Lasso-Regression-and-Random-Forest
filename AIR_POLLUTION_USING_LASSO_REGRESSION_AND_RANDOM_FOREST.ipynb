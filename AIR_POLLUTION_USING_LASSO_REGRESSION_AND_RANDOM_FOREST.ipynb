{
  "cells": [
    {
      "cell_type": "markdown",
      "metadata": {
        "id": "j0FiyuFscYHl"
      },
      "source": [
        "# Air Pollution Prediction\n",
        "\n",
        "The goal of this project is to predict the pollution of air, specifically the concentration of PM2.5 in the air. We use two models: a Lasso Regressor and a Random Forest Regressor and compare their performances.\n",
        "\n",
        "### Data\n",
        "\n",
        "For the purpose of the project, we are going to use a dataset of air pollution measurements in Beijing archived by the UCI. To read about the dataset visit the [UCI page](https://archive.ics.uci.edu/dataset/501/beijing+multi+site+air+quality+data).\n",
        "\n",
        "Over the course of the project, we are going to:\n",
        "  1. Preprocess the data\n",
        "  2. Build our own Lasso-regression\n",
        "  3. Use sklearn's tools to perform regression on the data\n",
        "  \n",
        "Let's start by importing the libraries we will be using."
      ]
    },
    {
      "cell_type": "code",
      "execution_count": 263,
      "metadata": {
        "id": "NWxSewmucYHp"
      },
      "outputs": [],
      "source": [
        "import pandas as pd\n",
        "import numpy as np\n",
        "from sklearn import linear_model\n",
        "from sklearn.model_selection import GridSearchCV\n",
        "from sklearn.ensemble import RandomForestRegressor\n",
        "import urllib\n",
        "import matplotlib.pyplot as plt\n",
        "%matplotlib inline"
      ]
    },
    {
      "cell_type": "markdown",
      "source": [
        "Download the data from the following link and save it to a CSV file named 'data.csv'."
      ],
      "metadata": {
        "id": "AIZhwQo8kpkO"
      }
    },
    {
      "cell_type": "code",
      "execution_count": 264,
      "metadata": {
        "id": "QujKMUPtcYHu",
        "colab": {
          "base_uri": "https://localhost:8080/"
        },
        "outputId": "725231a0-18cf-4cfd-f9ee-c86ee67e6eb9"
      },
      "outputs": [
        {
          "output_type": "execute_result",
          "data": {
            "text/plain": [
              "('./data.csv', <http.client.HTTPMessage at 0x7ce35d8cd240>)"
            ]
          },
          "metadata": {},
          "execution_count": 264
        }
      ],
      "source": [
        "urllib.request.urlretrieve('https://drive.google.com/uc?id=1m1g4Xn1wMAGV_EU0Nh1HTI1ogA3-tqJk&export=download', './data.csv')"
      ]
    },
    {
      "cell_type": "code",
      "source": [
        "df = pd.read_csv('data.csv')\n",
        "df.head()"
      ],
      "metadata": {
        "colab": {
          "base_uri": "https://localhost:8080/",
          "height": 206
        },
        "id": "pjTnc3V3leuW",
        "outputId": "ae9fe4f3-0d85-4cdf-be98-5b151ef58566"
      },
      "execution_count": 265,
      "outputs": [
        {
          "output_type": "execute_result",
          "data": {
            "text/plain": [
              "   No  year  month  day  hour  PM2.5  PM10  SO2   NO2     CO    O3  TEMP  \\\n",
              "0   1  2013      3    1     0    9.0   9.0  6.0  17.0  200.0  62.0   0.3   \n",
              "1   2  2013      3    1     1   11.0  11.0  7.0  14.0  200.0  66.0  -0.1   \n",
              "2   3  2013      3    1     2    8.0   8.0  NaN  16.0  200.0  59.0  -0.6   \n",
              "3   4  2013      3    1     3    8.0   8.0  3.0  16.0    NaN   NaN  -0.7   \n",
              "4   5  2013      3    1     4    8.0   8.0  3.0   NaN  300.0  36.0  -0.9   \n",
              "\n",
              "     PRES  DEWP  RAIN   wd  WSPM        station  \n",
              "0  1021.9 -19.0   0.0  WNW   2.0  Wanshouxigong  \n",
              "1  1022.4 -19.3   0.0  WNW   4.4  Wanshouxigong  \n",
              "2  1022.6 -19.7   0.0  WNW   4.7  Wanshouxigong  \n",
              "3  1023.5 -20.9   0.0   NW   2.6  Wanshouxigong  \n",
              "4  1024.1 -21.7   0.0  WNW   2.5  Wanshouxigong  "
            ],
            "text/html": [
              "\n",
              "  <div id=\"df-50d34aec-cfb7-493d-8a84-867a73bc133d\" class=\"colab-df-container\">\n",
              "    <div>\n",
              "<style scoped>\n",
              "    .dataframe tbody tr th:only-of-type {\n",
              "        vertical-align: middle;\n",
              "    }\n",
              "\n",
              "    .dataframe tbody tr th {\n",
              "        vertical-align: top;\n",
              "    }\n",
              "\n",
              "    .dataframe thead th {\n",
              "        text-align: right;\n",
              "    }\n",
              "</style>\n",
              "<table border=\"1\" class=\"dataframe\">\n",
              "  <thead>\n",
              "    <tr style=\"text-align: right;\">\n",
              "      <th></th>\n",
              "      <th>No</th>\n",
              "      <th>year</th>\n",
              "      <th>month</th>\n",
              "      <th>day</th>\n",
              "      <th>hour</th>\n",
              "      <th>PM2.5</th>\n",
              "      <th>PM10</th>\n",
              "      <th>SO2</th>\n",
              "      <th>NO2</th>\n",
              "      <th>CO</th>\n",
              "      <th>O3</th>\n",
              "      <th>TEMP</th>\n",
              "      <th>PRES</th>\n",
              "      <th>DEWP</th>\n",
              "      <th>RAIN</th>\n",
              "      <th>wd</th>\n",
              "      <th>WSPM</th>\n",
              "      <th>station</th>\n",
              "    </tr>\n",
              "  </thead>\n",
              "  <tbody>\n",
              "    <tr>\n",
              "      <th>0</th>\n",
              "      <td>1</td>\n",
              "      <td>2013</td>\n",
              "      <td>3</td>\n",
              "      <td>1</td>\n",
              "      <td>0</td>\n",
              "      <td>9.0</td>\n",
              "      <td>9.0</td>\n",
              "      <td>6.0</td>\n",
              "      <td>17.0</td>\n",
              "      <td>200.0</td>\n",
              "      <td>62.0</td>\n",
              "      <td>0.3</td>\n",
              "      <td>1021.9</td>\n",
              "      <td>-19.0</td>\n",
              "      <td>0.0</td>\n",
              "      <td>WNW</td>\n",
              "      <td>2.0</td>\n",
              "      <td>Wanshouxigong</td>\n",
              "    </tr>\n",
              "    <tr>\n",
              "      <th>1</th>\n",
              "      <td>2</td>\n",
              "      <td>2013</td>\n",
              "      <td>3</td>\n",
              "      <td>1</td>\n",
              "      <td>1</td>\n",
              "      <td>11.0</td>\n",
              "      <td>11.0</td>\n",
              "      <td>7.0</td>\n",
              "      <td>14.0</td>\n",
              "      <td>200.0</td>\n",
              "      <td>66.0</td>\n",
              "      <td>-0.1</td>\n",
              "      <td>1022.4</td>\n",
              "      <td>-19.3</td>\n",
              "      <td>0.0</td>\n",
              "      <td>WNW</td>\n",
              "      <td>4.4</td>\n",
              "      <td>Wanshouxigong</td>\n",
              "    </tr>\n",
              "    <tr>\n",
              "      <th>2</th>\n",
              "      <td>3</td>\n",
              "      <td>2013</td>\n",
              "      <td>3</td>\n",
              "      <td>1</td>\n",
              "      <td>2</td>\n",
              "      <td>8.0</td>\n",
              "      <td>8.0</td>\n",
              "      <td>NaN</td>\n",
              "      <td>16.0</td>\n",
              "      <td>200.0</td>\n",
              "      <td>59.0</td>\n",
              "      <td>-0.6</td>\n",
              "      <td>1022.6</td>\n",
              "      <td>-19.7</td>\n",
              "      <td>0.0</td>\n",
              "      <td>WNW</td>\n",
              "      <td>4.7</td>\n",
              "      <td>Wanshouxigong</td>\n",
              "    </tr>\n",
              "    <tr>\n",
              "      <th>3</th>\n",
              "      <td>4</td>\n",
              "      <td>2013</td>\n",
              "      <td>3</td>\n",
              "      <td>1</td>\n",
              "      <td>3</td>\n",
              "      <td>8.0</td>\n",
              "      <td>8.0</td>\n",
              "      <td>3.0</td>\n",
              "      <td>16.0</td>\n",
              "      <td>NaN</td>\n",
              "      <td>NaN</td>\n",
              "      <td>-0.7</td>\n",
              "      <td>1023.5</td>\n",
              "      <td>-20.9</td>\n",
              "      <td>0.0</td>\n",
              "      <td>NW</td>\n",
              "      <td>2.6</td>\n",
              "      <td>Wanshouxigong</td>\n",
              "    </tr>\n",
              "    <tr>\n",
              "      <th>4</th>\n",
              "      <td>5</td>\n",
              "      <td>2013</td>\n",
              "      <td>3</td>\n",
              "      <td>1</td>\n",
              "      <td>4</td>\n",
              "      <td>8.0</td>\n",
              "      <td>8.0</td>\n",
              "      <td>3.0</td>\n",
              "      <td>NaN</td>\n",
              "      <td>300.0</td>\n",
              "      <td>36.0</td>\n",
              "      <td>-0.9</td>\n",
              "      <td>1024.1</td>\n",
              "      <td>-21.7</td>\n",
              "      <td>0.0</td>\n",
              "      <td>WNW</td>\n",
              "      <td>2.5</td>\n",
              "      <td>Wanshouxigong</td>\n",
              "    </tr>\n",
              "  </tbody>\n",
              "</table>\n",
              "</div>\n",
              "    <div class=\"colab-df-buttons\">\n",
              "\n",
              "  <div class=\"colab-df-container\">\n",
              "    <button class=\"colab-df-convert\" onclick=\"convertToInteractive('df-50d34aec-cfb7-493d-8a84-867a73bc133d')\"\n",
              "            title=\"Convert this dataframe to an interactive table.\"\n",
              "            style=\"display:none;\">\n",
              "\n",
              "  <svg xmlns=\"http://www.w3.org/2000/svg\" height=\"24px\" viewBox=\"0 -960 960 960\">\n",
              "    <path d=\"M120-120v-720h720v720H120Zm60-500h600v-160H180v160Zm220 220h160v-160H400v160Zm0 220h160v-160H400v160ZM180-400h160v-160H180v160Zm440 0h160v-160H620v160ZM180-180h160v-160H180v160Zm440 0h160v-160H620v160Z\"/>\n",
              "  </svg>\n",
              "    </button>\n",
              "\n",
              "  <style>\n",
              "    .colab-df-container {\n",
              "      display:flex;\n",
              "      gap: 12px;\n",
              "    }\n",
              "\n",
              "    .colab-df-convert {\n",
              "      background-color: #E8F0FE;\n",
              "      border: none;\n",
              "      border-radius: 50%;\n",
              "      cursor: pointer;\n",
              "      display: none;\n",
              "      fill: #1967D2;\n",
              "      height: 32px;\n",
              "      padding: 0 0 0 0;\n",
              "      width: 32px;\n",
              "    }\n",
              "\n",
              "    .colab-df-convert:hover {\n",
              "      background-color: #E2EBFA;\n",
              "      box-shadow: 0px 1px 2px rgba(60, 64, 67, 0.3), 0px 1px 3px 1px rgba(60, 64, 67, 0.15);\n",
              "      fill: #174EA6;\n",
              "    }\n",
              "\n",
              "    .colab-df-buttons div {\n",
              "      margin-bottom: 4px;\n",
              "    }\n",
              "\n",
              "    [theme=dark] .colab-df-convert {\n",
              "      background-color: #3B4455;\n",
              "      fill: #D2E3FC;\n",
              "    }\n",
              "\n",
              "    [theme=dark] .colab-df-convert:hover {\n",
              "      background-color: #434B5C;\n",
              "      box-shadow: 0px 1px 3px 1px rgba(0, 0, 0, 0.15);\n",
              "      filter: drop-shadow(0px 1px 2px rgba(0, 0, 0, 0.3));\n",
              "      fill: #FFFFFF;\n",
              "    }\n",
              "  </style>\n",
              "\n",
              "    <script>\n",
              "      const buttonEl =\n",
              "        document.querySelector('#df-50d34aec-cfb7-493d-8a84-867a73bc133d button.colab-df-convert');\n",
              "      buttonEl.style.display =\n",
              "        google.colab.kernel.accessAllowed ? 'block' : 'none';\n",
              "\n",
              "      async function convertToInteractive(key) {\n",
              "        const element = document.querySelector('#df-50d34aec-cfb7-493d-8a84-867a73bc133d');\n",
              "        const dataTable =\n",
              "          await google.colab.kernel.invokeFunction('convertToInteractive',\n",
              "                                                    [key], {});\n",
              "        if (!dataTable) return;\n",
              "\n",
              "        const docLinkHtml = 'Like what you see? Visit the ' +\n",
              "          '<a target=\"_blank\" href=https://colab.research.google.com/notebooks/data_table.ipynb>data table notebook</a>'\n",
              "          + ' to learn more about interactive tables.';\n",
              "        element.innerHTML = '';\n",
              "        dataTable['output_type'] = 'display_data';\n",
              "        await google.colab.output.renderOutput(dataTable, element);\n",
              "        const docLink = document.createElement('div');\n",
              "        docLink.innerHTML = docLinkHtml;\n",
              "        element.appendChild(docLink);\n",
              "      }\n",
              "    </script>\n",
              "  </div>\n",
              "\n",
              "\n",
              "<div id=\"df-1efe8c54-5460-4737-bf4f-b4b2f386424d\">\n",
              "  <button class=\"colab-df-quickchart\" onclick=\"quickchart('df-1efe8c54-5460-4737-bf4f-b4b2f386424d')\"\n",
              "            title=\"Suggest charts\"\n",
              "            style=\"display:none;\">\n",
              "\n",
              "<svg xmlns=\"http://www.w3.org/2000/svg\" height=\"24px\"viewBox=\"0 0 24 24\"\n",
              "     width=\"24px\">\n",
              "    <g>\n",
              "        <path d=\"M19 3H5c-1.1 0-2 .9-2 2v14c0 1.1.9 2 2 2h14c1.1 0 2-.9 2-2V5c0-1.1-.9-2-2-2zM9 17H7v-7h2v7zm4 0h-2V7h2v10zm4 0h-2v-4h2v4z\"/>\n",
              "    </g>\n",
              "</svg>\n",
              "  </button>\n",
              "\n",
              "<style>\n",
              "  .colab-df-quickchart {\n",
              "      --bg-color: #E8F0FE;\n",
              "      --fill-color: #1967D2;\n",
              "      --hover-bg-color: #E2EBFA;\n",
              "      --hover-fill-color: #174EA6;\n",
              "      --disabled-fill-color: #AAA;\n",
              "      --disabled-bg-color: #DDD;\n",
              "  }\n",
              "\n",
              "  [theme=dark] .colab-df-quickchart {\n",
              "      --bg-color: #3B4455;\n",
              "      --fill-color: #D2E3FC;\n",
              "      --hover-bg-color: #434B5C;\n",
              "      --hover-fill-color: #FFFFFF;\n",
              "      --disabled-bg-color: #3B4455;\n",
              "      --disabled-fill-color: #666;\n",
              "  }\n",
              "\n",
              "  .colab-df-quickchart {\n",
              "    background-color: var(--bg-color);\n",
              "    border: none;\n",
              "    border-radius: 50%;\n",
              "    cursor: pointer;\n",
              "    display: none;\n",
              "    fill: var(--fill-color);\n",
              "    height: 32px;\n",
              "    padding: 0;\n",
              "    width: 32px;\n",
              "  }\n",
              "\n",
              "  .colab-df-quickchart:hover {\n",
              "    background-color: var(--hover-bg-color);\n",
              "    box-shadow: 0 1px 2px rgba(60, 64, 67, 0.3), 0 1px 3px 1px rgba(60, 64, 67, 0.15);\n",
              "    fill: var(--button-hover-fill-color);\n",
              "  }\n",
              "\n",
              "  .colab-df-quickchart-complete:disabled,\n",
              "  .colab-df-quickchart-complete:disabled:hover {\n",
              "    background-color: var(--disabled-bg-color);\n",
              "    fill: var(--disabled-fill-color);\n",
              "    box-shadow: none;\n",
              "  }\n",
              "\n",
              "  .colab-df-spinner {\n",
              "    border: 2px solid var(--fill-color);\n",
              "    border-color: transparent;\n",
              "    border-bottom-color: var(--fill-color);\n",
              "    animation:\n",
              "      spin 1s steps(1) infinite;\n",
              "  }\n",
              "\n",
              "  @keyframes spin {\n",
              "    0% {\n",
              "      border-color: transparent;\n",
              "      border-bottom-color: var(--fill-color);\n",
              "      border-left-color: var(--fill-color);\n",
              "    }\n",
              "    20% {\n",
              "      border-color: transparent;\n",
              "      border-left-color: var(--fill-color);\n",
              "      border-top-color: var(--fill-color);\n",
              "    }\n",
              "    30% {\n",
              "      border-color: transparent;\n",
              "      border-left-color: var(--fill-color);\n",
              "      border-top-color: var(--fill-color);\n",
              "      border-right-color: var(--fill-color);\n",
              "    }\n",
              "    40% {\n",
              "      border-color: transparent;\n",
              "      border-right-color: var(--fill-color);\n",
              "      border-top-color: var(--fill-color);\n",
              "    }\n",
              "    60% {\n",
              "      border-color: transparent;\n",
              "      border-right-color: var(--fill-color);\n",
              "    }\n",
              "    80% {\n",
              "      border-color: transparent;\n",
              "      border-right-color: var(--fill-color);\n",
              "      border-bottom-color: var(--fill-color);\n",
              "    }\n",
              "    90% {\n",
              "      border-color: transparent;\n",
              "      border-bottom-color: var(--fill-color);\n",
              "    }\n",
              "  }\n",
              "</style>\n",
              "\n",
              "  <script>\n",
              "    async function quickchart(key) {\n",
              "      const quickchartButtonEl =\n",
              "        document.querySelector('#' + key + ' button');\n",
              "      quickchartButtonEl.disabled = true;  // To prevent multiple clicks.\n",
              "      quickchartButtonEl.classList.add('colab-df-spinner');\n",
              "      try {\n",
              "        const charts = await google.colab.kernel.invokeFunction(\n",
              "            'suggestCharts', [key], {});\n",
              "      } catch (error) {\n",
              "        console.error('Error during call to suggestCharts:', error);\n",
              "      }\n",
              "      quickchartButtonEl.classList.remove('colab-df-spinner');\n",
              "      quickchartButtonEl.classList.add('colab-df-quickchart-complete');\n",
              "    }\n",
              "    (() => {\n",
              "      let quickchartButtonEl =\n",
              "        document.querySelector('#df-1efe8c54-5460-4737-bf4f-b4b2f386424d button');\n",
              "      quickchartButtonEl.style.display =\n",
              "        google.colab.kernel.accessAllowed ? 'block' : 'none';\n",
              "    })();\n",
              "  </script>\n",
              "</div>\n",
              "\n",
              "    </div>\n",
              "  </div>\n"
            ],
            "application/vnd.google.colaboratory.intrinsic+json": {
              "type": "dataframe",
              "variable_name": "df",
              "summary": "{\n  \"name\": \"df\",\n  \"rows\": 35064,\n  \"fields\": [\n    {\n      \"column\": \"No\",\n      \"properties\": {\n        \"dtype\": \"number\",\n        \"std\": 10122,\n        \"min\": 1,\n        \"max\": 35064,\n        \"num_unique_values\": 35064,\n        \"samples\": [\n          6071,\n          32601,\n          8847\n        ],\n        \"semantic_type\": \"\",\n        \"description\": \"\"\n      }\n    },\n    {\n      \"column\": \"year\",\n      \"properties\": {\n        \"dtype\": \"number\",\n        \"std\": 1,\n        \"min\": 2013,\n        \"max\": 2017,\n        \"num_unique_values\": 5,\n        \"samples\": [\n          2014,\n          2017,\n          2015\n        ],\n        \"semantic_type\": \"\",\n        \"description\": \"\"\n      }\n    },\n    {\n      \"column\": \"month\",\n      \"properties\": {\n        \"dtype\": \"number\",\n        \"std\": 3,\n        \"min\": 1,\n        \"max\": 12,\n        \"num_unique_values\": 12,\n        \"samples\": [\n          1,\n          12,\n          3\n        ],\n        \"semantic_type\": \"\",\n        \"description\": \"\"\n      }\n    },\n    {\n      \"column\": \"day\",\n      \"properties\": {\n        \"dtype\": \"number\",\n        \"std\": 8,\n        \"min\": 1,\n        \"max\": 31,\n        \"num_unique_values\": 31,\n        \"samples\": [\n          28,\n          16,\n          24\n        ],\n        \"semantic_type\": \"\",\n        \"description\": \"\"\n      }\n    },\n    {\n      \"column\": \"hour\",\n      \"properties\": {\n        \"dtype\": \"number\",\n        \"std\": 6,\n        \"min\": 0,\n        \"max\": 23,\n        \"num_unique_values\": 24,\n        \"samples\": [\n          8,\n          16,\n          0\n        ],\n        \"semantic_type\": \"\",\n        \"description\": \"\"\n      }\n    },\n    {\n      \"column\": \"PM2.5\",\n      \"properties\": {\n        \"dtype\": \"number\",\n        \"std\": 85.97598115736476,\n        \"min\": 3.0,\n        \"max\": 999.0,\n        \"num_unique_values\": 585,\n        \"samples\": [\n          500.0,\n          469.0,\n          264.0\n        ],\n        \"semantic_type\": \"\",\n        \"description\": \"\"\n      }\n    },\n    {\n      \"column\": \"PM10\",\n      \"properties\": {\n        \"dtype\": \"number\",\n        \"std\": 97.59320984877719,\n        \"min\": 2.0,\n        \"max\": 961.0,\n        \"num_unique_values\": 648,\n        \"samples\": [\n          689.0,\n          382.0,\n          569.0\n        ],\n        \"semantic_type\": \"\",\n        \"description\": \"\"\n      }\n    },\n    {\n      \"column\": \"SO2\",\n      \"properties\": {\n        \"dtype\": \"number\",\n        \"std\": 23.940833792074415,\n        \"min\": 0.2856,\n        \"max\": 411.0,\n        \"num_unique_values\": 279,\n        \"samples\": [\n          76.0,\n          93.0,\n          47.9808\n        ],\n        \"semantic_type\": \"\",\n        \"description\": \"\"\n      }\n    },\n    {\n      \"column\": \"NO2\",\n      \"properties\": {\n        \"dtype\": \"number\",\n        \"std\": 35.80804962419214,\n        \"min\": 2.0,\n        \"max\": 251.0,\n        \"num_unique_values\": 422,\n        \"samples\": [\n          152.0,\n          21.5565,\n          166.0\n        ],\n        \"semantic_type\": \"\",\n        \"description\": \"\"\n      }\n    },\n    {\n      \"column\": \"CO\",\n      \"properties\": {\n        \"dtype\": \"number\",\n        \"std\": 1223.1391142587402,\n        \"min\": 100.0,\n        \"max\": 9800.0,\n        \"num_unique_values\": 116,\n        \"samples\": [\n          5900.0,\n          600.0,\n          6000.0\n        ],\n        \"semantic_type\": \"\",\n        \"description\": \"\"\n      }\n    },\n    {\n      \"column\": \"O3\",\n      \"properties\": {\n        \"dtype\": \"number\",\n        \"std\": 57.082710245155496,\n        \"min\": 0.2142,\n        \"max\": 358.0,\n        \"num_unique_values\": 716,\n        \"samples\": [\n          132.0,\n          232.0,\n          16.0\n        ],\n        \"semantic_type\": \"\",\n        \"description\": \"\"\n      }\n    },\n    {\n      \"column\": \"TEMP\",\n      \"properties\": {\n        \"dtype\": \"number\",\n        \"std\": 11.385156396168611,\n        \"min\": -16.8,\n        \"max\": 40.6,\n        \"num_unique_values\": 965,\n        \"samples\": [\n          -6.275,\n          -7.7,\n          8.0\n        ],\n        \"semantic_type\": \"\",\n        \"description\": \"\"\n      }\n    },\n    {\n      \"column\": \"PRES\",\n      \"properties\": {\n        \"dtype\": \"number\",\n        \"std\": 10.570928089396007,\n        \"min\": 985.1,\n        \"max\": 1042.0,\n        \"num_unique_values\": 607,\n        \"samples\": [\n          1021.25,\n          999.7,\n          1013.5\n        ],\n        \"semantic_type\": \"\",\n        \"description\": \"\"\n      }\n    },\n    {\n      \"column\": \"DEWP\",\n      \"properties\": {\n        \"dtype\": \"number\",\n        \"std\": 13.70413902897918,\n        \"min\": -35.3,\n        \"max\": 28.5,\n        \"num_unique_values\": 608,\n        \"samples\": [\n          -1.8,\n          -20.6,\n          -0.1\n        ],\n        \"semantic_type\": \"\",\n        \"description\": \"\"\n      }\n    },\n    {\n      \"column\": \"RAIN\",\n      \"properties\": {\n        \"dtype\": \"number\",\n        \"std\": 0.7969806967664594,\n        \"min\": 0.0,\n        \"max\": 46.4,\n        \"num_unique_values\": 121,\n        \"samples\": [\n          2.4,\n          5.3,\n          2.0\n        ],\n        \"semantic_type\": \"\",\n        \"description\": \"\"\n      }\n    },\n    {\n      \"column\": \"wd\",\n      \"properties\": {\n        \"dtype\": \"category\",\n        \"num_unique_values\": 16,\n        \"samples\": [\n          \"WNW\",\n          \"NW\",\n          \"N\"\n        ],\n        \"semantic_type\": \"\",\n        \"description\": \"\"\n      }\n    },\n    {\n      \"column\": \"WSPM\",\n      \"properties\": {\n        \"dtype\": \"number\",\n        \"std\": 1.206354759826012,\n        \"min\": 0.0,\n        \"max\": 13.2,\n        \"num_unique_values\": 96,\n        \"samples\": [\n          5.7,\n          7.1,\n          6.5\n        ],\n        \"semantic_type\": \"\",\n        \"description\": \"\"\n      }\n    },\n    {\n      \"column\": \"station\",\n      \"properties\": {\n        \"dtype\": \"category\",\n        \"num_unique_values\": 1,\n        \"samples\": [\n          \"Wanshouxigong\"\n        ],\n        \"semantic_type\": \"\",\n        \"description\": \"\"\n      }\n    }\n  ]\n}"
            }
          },
          "metadata": {},
          "execution_count": 265
        }
      ]
    },
    {
      "cell_type": "code",
      "execution_count": 266,
      "metadata": {
        "id": "2qOVpf72cYHv"
      },
      "outputs": [],
      "source": [
        "df.set_index(['No'], inplace=True) #set No column as the index column"
      ]
    },
    {
      "cell_type": "markdown",
      "metadata": {
        "id": "WWSGSGFfcYHs"
      },
      "source": [
        "We will be trying to predict the pollution (PM2.5) using:\n",
        "- temperature ('TEMP')\n",
        "- pressure ('PRES')\n",
        "- dew-point temperature ('DEWP')\n",
        "- precipitation ('RAIN')\n",
        "- wind direction ('wd')\n",
        "- wind speed ('WSPM')\n",
        "\n",
        "But frist we need to clean the data.\n",
        "\n",
        "## Data Cleaning"
      ]
    },
    {
      "cell_type": "code",
      "source": [
        "df.info()"
      ],
      "metadata": {
        "colab": {
          "base_uri": "https://localhost:8080/"
        },
        "id": "abo5g5mWn9tW",
        "outputId": "2866dda4-3ed2-4ca7-d19d-d8c5e4d81097"
      },
      "execution_count": 267,
      "outputs": [
        {
          "output_type": "stream",
          "name": "stdout",
          "text": [
            "<class 'pandas.core.frame.DataFrame'>\n",
            "Int64Index: 35064 entries, 1 to 35064\n",
            "Data columns (total 17 columns):\n",
            " #   Column   Non-Null Count  Dtype  \n",
            "---  ------   --------------  -----  \n",
            " 0   year     35064 non-null  int64  \n",
            " 1   month    35064 non-null  int64  \n",
            " 2   day      35064 non-null  int64  \n",
            " 3   hour     35064 non-null  int64  \n",
            " 4   PM2.5    34368 non-null  float64\n",
            " 5   PM10     34580 non-null  float64\n",
            " 6   SO2      34395 non-null  float64\n",
            " 7   NO2      34310 non-null  float64\n",
            " 8   CO       33767 non-null  float64\n",
            " 9   O3       33986 non-null  float64\n",
            " 10  TEMP     35045 non-null  float64\n",
            " 11  PRES     35045 non-null  float64\n",
            " 12  DEWP     35045 non-null  float64\n",
            " 13  RAIN     35045 non-null  float64\n",
            " 14  wd       34985 non-null  object \n",
            " 15  WSPM     35051 non-null  float64\n",
            " 16  station  35064 non-null  object \n",
            "dtypes: float64(11), int64(4), object(2)\n",
            "memory usage: 4.8+ MB\n"
          ]
        }
      ]
    },
    {
      "cell_type": "code",
      "source": [
        "# drop the null rows in our columns of interest\n",
        "df = df.drop(columns = ['year','month','day','PM10','SO2','NO2','CO','O3','station'], axis=1)\n",
        "df = df.dropna(subset=['PM2.5','hour','TEMP','PRES','DEWP','RAIN','wd','WSPM'])\n",
        "# reorder the columns so the column to be predicted PM2.5 is the fir column\n",
        "df = df[['PM2.5','hour','TEMP','PRES','DEWP','RAIN','wd','WSPM']]\n",
        "df.isnull().sum()"
      ],
      "metadata": {
        "colab": {
          "base_uri": "https://localhost:8080/"
        },
        "id": "l9exXNZ_olTR",
        "outputId": "9540c53f-7df3-49ed-d29c-ef639a3555cd"
      },
      "execution_count": 268,
      "outputs": [
        {
          "output_type": "execute_result",
          "data": {
            "text/plain": [
              "PM2.5    0\n",
              "hour     0\n",
              "TEMP     0\n",
              "PRES     0\n",
              "DEWP     0\n",
              "RAIN     0\n",
              "wd       0\n",
              "WSPM     0\n",
              "dtype: int64"
            ]
          },
          "metadata": {},
          "execution_count": 268
        }
      ]
    },
    {
      "cell_type": "markdown",
      "source": [
        "## Train-test Split\n",
        "\n",
        "We perform the split before preprocessing so the test data can be left unprocessed in order for it to match real world scenarios when the model is deployed. We will use 85% for the training and validation data, and 15% for the test set. To avoid unwanted correlations, we use split the data according to time. Thankfully the data comes ordered by time so we do not need to order it by ourselves."
      ],
      "metadata": {
        "id": "qi0HYbxcpXmh"
      }
    },
    {
      "cell_type": "code",
      "source": [
        "from sklearn.model_selection import train_test_split\n",
        "train_df, test_df = train_test_split(df, test_size=0.15, shuffle=False)\n",
        "\n",
        "len(train_df)/len(df),len(test_df)/len(df) #checking the sizes manually"
      ],
      "metadata": {
        "colab": {
          "base_uri": "https://localhost:8080/"
        },
        "id": "3Z8rajUir3qb",
        "outputId": "8b6f8d18-c486-4956-b929-cb087c9d9a54"
      },
      "execution_count": 269,
      "outputs": [
        {
          "output_type": "execute_result",
          "data": {
            "text/plain": [
              "(0.8499883327499709, 0.15001166725002918)"
            ]
          },
          "metadata": {},
          "execution_count": 269
        }
      ]
    },
    {
      "cell_type": "markdown",
      "source": [
        "## Lasso Regression\n",
        "\n",
        "We will now manually implemenet Lasso Regression from scratch.\n",
        "\n",
        "[From Wikipedia](https://en.wikipedia.org/wiki/Lasso_(statistics)#:~:text=In%20statistics%20and%20machine%20learning,of%20the%20resulting%20statistical%20model.): \"Lasso (least absolute shrinkage and selection operator) is a regression analysis method that performs both variable selection and regularization in order to enhance the prediction accuracy and interpretability of the resulting statistical model.\"\n",
        "\n",
        "### OLS Regression\n",
        "\n",
        "First we perform OLS regression and we will later regularize it using Lasso regression. Begin by defining the prediciton fuction for linear regression i.e. $f(X,\\mathbf{w}) = X \\mathbf{w}$."
      ],
      "metadata": {
        "id": "ESaHuQjJ1VSK"
      }
    },
    {
      "cell_type": "code",
      "source": [
        "# Prediction fuction for linear regression\n",
        "def prediction(X,w):\n",
        "    return X@w"
      ],
      "metadata": {
        "id": "W7zU2mbJ3Evw"
      },
      "execution_count": 270,
      "outputs": []
    },
    {
      "cell_type": "markdown",
      "source": [
        "Next, the objective function to tell us the error, mathematically given as: $E = \\sum_{i=1}^N \\big(y_i-f(\\mathbf{x}_i,\\mathbf{w}) \\big)^2$."
      ],
      "metadata": {
        "id": "fpFOwVJZ4R7e"
      }
    },
    {
      "cell_type": "code",
      "source": [
        "# Objective function to return the error\n",
        "def objective(X,y,w):\n",
        "    \"\"\"\n",
        "    Computes the sum squared error (for us to perform OLS linear regression).\n",
        "    \"\"\"\n",
        "    f = prediction(X,w)\n",
        "    return np.sum((y-f)**2)"
      ],
      "metadata": {
        "id": "1Z4ApD0R3qjP"
      },
      "execution_count": 271,
      "outputs": []
    },
    {
      "cell_type": "markdown",
      "source": [
        "Now we find the derivative of the objective w.r.t. the parameter vector. The gradient of the error function for linear regression is:\n",
        "\n",
        "$\\frac{\\partial E}{\\partial \\mathbf{w}} = 2 X^\\top X \\mathbf{w} - 2 X^\\top y$."
      ],
      "metadata": {
        "id": "mN7EdpV64eo_"
      }
    },
    {
      "cell_type": "code",
      "source": [
        "# gradient of the error function\n",
        "def objective_derivative(X,y,w):\n",
        "    \"\"\"\n",
        "    Computes the derivative of the sum squared error, wrt the parameters.\n",
        "    \"\"\"\n",
        "    return 2*X.T@X@w-2*X.T@y"
      ],
      "metadata": {
        "id": "Achwhvuo4Hjf"
      },
      "execution_count": 272,
      "outputs": []
    },
    {
      "cell_type": "markdown",
      "metadata": {
        "id": "4U-KESeZ6zO1"
      },
      "source": [
        "To check the gradients are correct, we can estimate the gradient numerically:"
      ]
    },
    {
      "cell_type": "code",
      "execution_count": 273,
      "metadata": {
        "id": "dxoVCTbZ6zO2"
      },
      "outputs": [],
      "source": [
        "def numerical_objective_derivative(X,y,w):\n",
        "    \"\"\"\n",
        "    Computes a numerical approximation to the derivative of the sum squared error, wrt the parameters.\n",
        "    \"\"\"\n",
        "    g = np.zeros_like(w)\n",
        "    for i,wi in enumerate(w):\n",
        "        d = np.zeros_like(w)\n",
        "        d[i]=1e-6\n",
        "        g[i] = (objective(X,y,w+d)-objective(X,y,w-d))/2e-6\n",
        "    return g"
      ]
    },
    {
      "cell_type": "markdown",
      "metadata": {
        "id": "BmDGxUs37D4c"
      },
      "source": [
        "We'll use a toy design matrix & labels to use to check our code works. We'll also specify a weight vector too, for testing. The two gradient vectors should be approximately equal:"
      ]
    },
    {
      "cell_type": "code",
      "execution_count": 274,
      "metadata": {
        "colab": {
          "base_uri": "https://localhost:8080/"
        },
        "outputId": "0276e134-0aca-4519-f36d-8885f33715bd",
        "id": "qRjRY_Xw7D41"
      },
      "outputs": [
        {
          "output_type": "execute_result",
          "data": {
            "text/plain": [
              "(array([39.28, 73.2 ]), array([39.28, 73.2 ]))"
            ]
          },
          "metadata": {},
          "execution_count": 274
        }
      ],
      "source": [
        "X = np.array([[0.0,0],[1,3],[2.2,3]])\n",
        "y = np.array([0.0,1,2])\n",
        "w = np.array([1.0,2])\n",
        "\n",
        "objective_derivative(X,y,w),numerical_objective_derivative(X,y,w)"
      ]
    },
    {
      "cell_type": "markdown",
      "source": [
        "Now, we ptimise $\\mathbf{w}$ to minimise the objective. We will use the gradient function we wrote to maximise $\\mathbf{w}$ using gradient descent. At each iteration: compute the gradient and subtract the scaled gradient from the w parameter."
      ],
      "metadata": {
        "id": "pbkj4yua74qp"
      }
    },
    {
      "cell_type": "code",
      "execution_count": 275,
      "metadata": {
        "id": "HI1NKY-a8Yho"
      },
      "outputs": [],
      "source": [
        "from numpy.lib.function_base import gradient\n",
        "def optimise_parameters(X,y,startw):\n",
        "    \"\"\"\n",
        "    Returns the w that minimises the objective.\n",
        "    \"\"\"\n",
        "    w = startw\n",
        "    for i in range(1000):\n",
        "      scaled_gradient = objective_derivative(X,y,startw) * 0.001 #0.01 is the learning rate\n",
        "      w -= scaled_gradient\n",
        "    return w"
      ]
    },
    {
      "cell_type": "markdown",
      "metadata": {
        "id": "cQlDgmnN8Yh1"
      },
      "source": [
        "Let's compute our answers and compare it to the answer provided by sklearn:"
      ]
    },
    {
      "cell_type": "code",
      "execution_count": 276,
      "metadata": {
        "colab": {
          "base_uri": "https://localhost:8080/"
        },
        "outputId": "5fccbadc-4647-4c67-d4a6-a94df29a1a50",
        "id": "w_oLfj918Yh0"
      },
      "outputs": [
        {
          "output_type": "stream",
          "name": "stdout",
          "text": [
            "[0.60568751 0.1808409 ]\n"
          ]
        }
      ],
      "source": [
        "bestw = optimise_parameters(X,y,w)\n",
        "print(bestw)"
      ]
    },
    {
      "cell_type": "code",
      "execution_count": 277,
      "metadata": {
        "colab": {
          "base_uri": "https://localhost:8080/"
        },
        "outputId": "49f304c7-f206-4563-de2a-82e45b2ac9ea",
        "id": "edPwgrXU8Yh1"
      },
      "outputs": [
        {
          "output_type": "stream",
          "name": "stdout",
          "text": [
            "[0.83333333 0.05555556]\n"
          ]
        }
      ],
      "source": [
        "from sklearn import linear_model\n",
        "clf = linear_model.LinearRegression(fit_intercept=False)\n",
        "clf.fit(X,y)\n",
        "print(clf.coef_) #matches the value of w we found above, hopefully!"
      ]
    },
    {
      "cell_type": "markdown",
      "source": [
        "### Regularization\n",
        "\n",
        "We can now regularize our regression function above using Lasso Regression.\n",
        "\n",
        "We need to include the Lasso regularization term to our objective function. This gives us a **a new objective function:**\n",
        "\n",
        "$$E = \\frac{1}{2N}\\sum_{i=1}^N \\big(y_i-f(\\mathbf{x}_i,\\mathbf{w}) \\big)^2 + \\alpha \\sum_{j=1}^P |w_j|$$"
      ],
      "metadata": {
        "id": "j7NVRT699cHu"
      }
    },
    {
      "cell_type": "code",
      "execution_count": 278,
      "metadata": {
        "id": "8a0PwqpQqV6P"
      },
      "outputs": [],
      "source": [
        "def objective_lasso(X,y,w,alpha):\n",
        "    \"\"\"\n",
        "    Computes half the mean squared error, with an additional L1 regularising term. alpha controls the level of regularisation.\n",
        "    \"\"\"\n",
        "    return objective(X,y,w)/(2*y.shape[0])+ alpha*np.sum(abs(w))"
      ]
    },
    {
      "cell_type": "markdown",
      "source": [
        "Similar to before, we will be computing the gradient. The derivative of the objective function is then given as:\n",
        "\n",
        "$$\\frac{\\partial E}{\\partial \\mathbf{w}} = \\frac{1}{N}(X^\\top X \\mathbf{w} - X^\\top y) + \\alpha\\;\\text{sign}(\\mathbf{w}).$$"
      ],
      "metadata": {
        "id": "qsulza5ZrBbt"
      }
    },
    {
      "cell_type": "code",
      "execution_count": 279,
      "metadata": {
        "id": "U19HxRX1rT1T"
      },
      "outputs": [],
      "source": [
        "def objective_lasso_derivative(X,y,w,alpha):\n",
        "    \"\"\"\n",
        "    Returns the derivative of the Lasso objective function.\n",
        "    \"\"\"\n",
        "    return (X.T@X@w-X.T@y)/y.shape[0] + alpha*np.sign(w)"
      ]
    },
    {
      "cell_type": "markdown",
      "metadata": {
        "id": "U_2-BGnTsQjj"
      },
      "source": [
        "We can check it again, numerically. The two pairs of parameters should be the same:"
      ]
    },
    {
      "cell_type": "code",
      "execution_count": 280,
      "metadata": {
        "colab": {
          "base_uri": "https://localhost:8080/"
        },
        "outputId": "2228cf5a-6dd3-4f00-895b-ed4ca33ab98b",
        "id": "_AYr2pW5sQjs"
      },
      "outputs": [
        {
          "output_type": "execute_result",
          "data": {
            "text/plain": [
              "(array([0.05776258, 0.12324545]), array([0.05776258, 0.12324545]))"
            ]
          },
          "metadata": {},
          "execution_count": 280
        }
      ],
      "source": [
        "def numerical_objective_lasso_derivative(X,y,w,alpha):\n",
        "    \"\"\"\n",
        "    This finds a numerical approximation to the true gradient\n",
        "    \"\"\"\n",
        "\n",
        "    g = np.zeros_like(w)\n",
        "    for i,wi in enumerate(w):\n",
        "        d = np.zeros_like(w)\n",
        "        d[i]=1e-6\n",
        "        g[i] = (objective_lasso(X,y,w+d,alpha)-objective_lasso(X,y,w-d,alpha))/2e-6\n",
        "    return g\n",
        "\n",
        "objective_lasso_derivative(X,y,w,0.1),numerical_objective_lasso_derivative(X,y,w,0.1)"
      ]
    },
    {
      "cell_type": "markdown",
      "metadata": {
        "id": "7o4jgrpCsQjs"
      },
      "source": [
        "Lastly, optimise $\\mathbf{w}$ to minimise the Lasso objective."
      ]
    },
    {
      "cell_type": "code",
      "execution_count": 328,
      "metadata": {
        "colab": {
          "base_uri": "https://localhost:8080/"
        },
        "outputId": "37bb3bd4-d63b-43bf-8246-cfae0efe05f9",
        "id": "xDDzh5dnsQjs"
      },
      "outputs": [
        {
          "output_type": "execute_result",
          "data": {
            "text/plain": [
              "array([0.63884183, 0.14261849])"
            ]
          },
          "metadata": {},
          "execution_count": 328
        }
      ],
      "source": [
        "def optimise_parameters_lasso(X,y,startw):\n",
        "    \"\"\"\n",
        "    Returns the w that minimises the Lasso objective.\n",
        "    \"\"\"\n",
        "    alpha = 0.1\n",
        "    for i in range(5000):\n",
        "      scaled_gradient_q10 = objective_lasso_derivative(X,y,startw,alpha) * 0.01\n",
        "      startw -= scaled_gradient_q10\n",
        "    return startw\n",
        "\n",
        "X = np.array([[0.0,0],[1,3],[2.2,3]])\n",
        "y = np.array([0.0,1,2])\n",
        "w = np.array([1.0,2])\n",
        "optimise_parameters_lasso(X,y,w)"
      ]
    },
    {
      "cell_type": "markdown",
      "metadata": {
        "id": "lHe_x_hrsQjs"
      },
      "source": [
        "We can check against the sklearn method:"
      ]
    },
    {
      "cell_type": "code",
      "execution_count": 179,
      "metadata": {
        "colab": {
          "base_uri": "https://localhost:8080/"
        },
        "outputId": "22747d72-c223-46ea-a136-270b95996fcb",
        "id": "3SolVz84sQjs"
      },
      "outputs": [
        {
          "output_type": "stream",
          "name": "stdout",
          "text": [
            "[0.63931263 0.1423666 ]\n"
          ]
        }
      ],
      "source": [
        "clf = linear_model.Lasso(alpha=0.1,fit_intercept=False)\n",
        "clf.fit(X,y)\n",
        "print(clf.coef_)"
      ]
    },
    {
      "cell_type": "markdown",
      "metadata": {
        "id": "NdM5cwzOxGEC"
      },
      "source": [
        "## Data Preprocessing\n",
        "### One hot Encoding\n",
        "The wind direction column 'wd' is a string type and must be converted to a numerical column. This is achieved by applying one-hot encoding.\n"
      ]
    },
    {
      "cell_type": "code",
      "execution_count": 180,
      "metadata": {
        "colab": {
          "base_uri": "https://localhost:8080/",
          "height": 454
        },
        "outputId": "365316bc-5b16-461e-eea4-c462365a119a",
        "id": "MvdmCmjMxGEO"
      },
      "outputs": [
        {
          "output_type": "execute_result",
          "data": {
            "text/plain": [
              "       PM2.5  hour  TEMP    PRES  DEWP  RAIN  WSPM  wd_E  wd_ENE  wd_ESE  ...  \\\n",
              "No                                                                        ...   \n",
              "1        9.0     0   0.3  1021.9 -19.0   0.0   2.0     0       0       0  ...   \n",
              "2       11.0     1  -0.1  1022.4 -19.3   0.0   4.4     0       0       0  ...   \n",
              "3        8.0     2  -0.6  1022.6 -19.7   0.0   4.7     0       0       0  ...   \n",
              "4        8.0     3  -0.7  1023.5 -20.9   0.0   2.6     0       0       0  ...   \n",
              "5        8.0     4  -0.9  1024.1 -21.7   0.0   2.5     0       0       0  ...   \n",
              "...      ...   ...   ...     ...   ...   ...   ...   ...     ...     ...  ...   \n",
              "29760  138.0    23  28.2   997.0  24.2   0.0   1.0     0       0       0  ...   \n",
              "29761  145.0     0  27.7   997.1  24.3   0.0   0.9     0       0       0  ...   \n",
              "29762  139.0     1  26.9   996.6  24.6   0.0   0.8     1       0       0  ...   \n",
              "29763  128.0     2  26.6   996.3  24.8   0.0   0.4     0       0       0  ...   \n",
              "29764  116.0     3  26.4   996.2  24.6   0.0   0.9     1       0       0  ...   \n",
              "\n",
              "       wd_NNW  wd_NW  wd_S  wd_SE  wd_SSE  wd_SSW  wd_SW  wd_W  wd_WNW  wd_WSW  \n",
              "No                                                                              \n",
              "1           0      0     0      0       0       0      0     0       1       0  \n",
              "2           0      0     0      0       0       0      0     0       1       0  \n",
              "3           0      0     0      0       0       0      0     0       1       0  \n",
              "4           0      1     0      0       0       0      0     0       0       0  \n",
              "5           0      0     0      0       0       0      0     0       1       0  \n",
              "...       ...    ...   ...    ...     ...     ...    ...   ...     ...     ...  \n",
              "29760       0      0     0      0       1       0      0     0       0       0  \n",
              "29761       0      0     0      0       0       1      0     0       0       0  \n",
              "29762       0      0     0      0       0       0      0     0       0       0  \n",
              "29763       0      0     0      0       0       0      0     0       0       0  \n",
              "29764       0      0     0      0       0       0      0     0       0       0  \n",
              "\n",
              "[29141 rows x 23 columns]"
            ],
            "text/html": [
              "\n",
              "  <div id=\"df-a71d4a99-63d8-47a0-8e12-94329d643c9d\" class=\"colab-df-container\">\n",
              "    <div>\n",
              "<style scoped>\n",
              "    .dataframe tbody tr th:only-of-type {\n",
              "        vertical-align: middle;\n",
              "    }\n",
              "\n",
              "    .dataframe tbody tr th {\n",
              "        vertical-align: top;\n",
              "    }\n",
              "\n",
              "    .dataframe thead th {\n",
              "        text-align: right;\n",
              "    }\n",
              "</style>\n",
              "<table border=\"1\" class=\"dataframe\">\n",
              "  <thead>\n",
              "    <tr style=\"text-align: right;\">\n",
              "      <th></th>\n",
              "      <th>PM2.5</th>\n",
              "      <th>hour</th>\n",
              "      <th>TEMP</th>\n",
              "      <th>PRES</th>\n",
              "      <th>DEWP</th>\n",
              "      <th>RAIN</th>\n",
              "      <th>WSPM</th>\n",
              "      <th>wd_E</th>\n",
              "      <th>wd_ENE</th>\n",
              "      <th>wd_ESE</th>\n",
              "      <th>...</th>\n",
              "      <th>wd_NNW</th>\n",
              "      <th>wd_NW</th>\n",
              "      <th>wd_S</th>\n",
              "      <th>wd_SE</th>\n",
              "      <th>wd_SSE</th>\n",
              "      <th>wd_SSW</th>\n",
              "      <th>wd_SW</th>\n",
              "      <th>wd_W</th>\n",
              "      <th>wd_WNW</th>\n",
              "      <th>wd_WSW</th>\n",
              "    </tr>\n",
              "    <tr>\n",
              "      <th>No</th>\n",
              "      <th></th>\n",
              "      <th></th>\n",
              "      <th></th>\n",
              "      <th></th>\n",
              "      <th></th>\n",
              "      <th></th>\n",
              "      <th></th>\n",
              "      <th></th>\n",
              "      <th></th>\n",
              "      <th></th>\n",
              "      <th></th>\n",
              "      <th></th>\n",
              "      <th></th>\n",
              "      <th></th>\n",
              "      <th></th>\n",
              "      <th></th>\n",
              "      <th></th>\n",
              "      <th></th>\n",
              "      <th></th>\n",
              "      <th></th>\n",
              "      <th></th>\n",
              "    </tr>\n",
              "  </thead>\n",
              "  <tbody>\n",
              "    <tr>\n",
              "      <th>1</th>\n",
              "      <td>9.0</td>\n",
              "      <td>0</td>\n",
              "      <td>0.3</td>\n",
              "      <td>1021.9</td>\n",
              "      <td>-19.0</td>\n",
              "      <td>0.0</td>\n",
              "      <td>2.0</td>\n",
              "      <td>0</td>\n",
              "      <td>0</td>\n",
              "      <td>0</td>\n",
              "      <td>...</td>\n",
              "      <td>0</td>\n",
              "      <td>0</td>\n",
              "      <td>0</td>\n",
              "      <td>0</td>\n",
              "      <td>0</td>\n",
              "      <td>0</td>\n",
              "      <td>0</td>\n",
              "      <td>0</td>\n",
              "      <td>1</td>\n",
              "      <td>0</td>\n",
              "    </tr>\n",
              "    <tr>\n",
              "      <th>2</th>\n",
              "      <td>11.0</td>\n",
              "      <td>1</td>\n",
              "      <td>-0.1</td>\n",
              "      <td>1022.4</td>\n",
              "      <td>-19.3</td>\n",
              "      <td>0.0</td>\n",
              "      <td>4.4</td>\n",
              "      <td>0</td>\n",
              "      <td>0</td>\n",
              "      <td>0</td>\n",
              "      <td>...</td>\n",
              "      <td>0</td>\n",
              "      <td>0</td>\n",
              "      <td>0</td>\n",
              "      <td>0</td>\n",
              "      <td>0</td>\n",
              "      <td>0</td>\n",
              "      <td>0</td>\n",
              "      <td>0</td>\n",
              "      <td>1</td>\n",
              "      <td>0</td>\n",
              "    </tr>\n",
              "    <tr>\n",
              "      <th>3</th>\n",
              "      <td>8.0</td>\n",
              "      <td>2</td>\n",
              "      <td>-0.6</td>\n",
              "      <td>1022.6</td>\n",
              "      <td>-19.7</td>\n",
              "      <td>0.0</td>\n",
              "      <td>4.7</td>\n",
              "      <td>0</td>\n",
              "      <td>0</td>\n",
              "      <td>0</td>\n",
              "      <td>...</td>\n",
              "      <td>0</td>\n",
              "      <td>0</td>\n",
              "      <td>0</td>\n",
              "      <td>0</td>\n",
              "      <td>0</td>\n",
              "      <td>0</td>\n",
              "      <td>0</td>\n",
              "      <td>0</td>\n",
              "      <td>1</td>\n",
              "      <td>0</td>\n",
              "    </tr>\n",
              "    <tr>\n",
              "      <th>4</th>\n",
              "      <td>8.0</td>\n",
              "      <td>3</td>\n",
              "      <td>-0.7</td>\n",
              "      <td>1023.5</td>\n",
              "      <td>-20.9</td>\n",
              "      <td>0.0</td>\n",
              "      <td>2.6</td>\n",
              "      <td>0</td>\n",
              "      <td>0</td>\n",
              "      <td>0</td>\n",
              "      <td>...</td>\n",
              "      <td>0</td>\n",
              "      <td>1</td>\n",
              "      <td>0</td>\n",
              "      <td>0</td>\n",
              "      <td>0</td>\n",
              "      <td>0</td>\n",
              "      <td>0</td>\n",
              "      <td>0</td>\n",
              "      <td>0</td>\n",
              "      <td>0</td>\n",
              "    </tr>\n",
              "    <tr>\n",
              "      <th>5</th>\n",
              "      <td>8.0</td>\n",
              "      <td>4</td>\n",
              "      <td>-0.9</td>\n",
              "      <td>1024.1</td>\n",
              "      <td>-21.7</td>\n",
              "      <td>0.0</td>\n",
              "      <td>2.5</td>\n",
              "      <td>0</td>\n",
              "      <td>0</td>\n",
              "      <td>0</td>\n",
              "      <td>...</td>\n",
              "      <td>0</td>\n",
              "      <td>0</td>\n",
              "      <td>0</td>\n",
              "      <td>0</td>\n",
              "      <td>0</td>\n",
              "      <td>0</td>\n",
              "      <td>0</td>\n",
              "      <td>0</td>\n",
              "      <td>1</td>\n",
              "      <td>0</td>\n",
              "    </tr>\n",
              "    <tr>\n",
              "      <th>...</th>\n",
              "      <td>...</td>\n",
              "      <td>...</td>\n",
              "      <td>...</td>\n",
              "      <td>...</td>\n",
              "      <td>...</td>\n",
              "      <td>...</td>\n",
              "      <td>...</td>\n",
              "      <td>...</td>\n",
              "      <td>...</td>\n",
              "      <td>...</td>\n",
              "      <td>...</td>\n",
              "      <td>...</td>\n",
              "      <td>...</td>\n",
              "      <td>...</td>\n",
              "      <td>...</td>\n",
              "      <td>...</td>\n",
              "      <td>...</td>\n",
              "      <td>...</td>\n",
              "      <td>...</td>\n",
              "      <td>...</td>\n",
              "      <td>...</td>\n",
              "    </tr>\n",
              "    <tr>\n",
              "      <th>29760</th>\n",
              "      <td>138.0</td>\n",
              "      <td>23</td>\n",
              "      <td>28.2</td>\n",
              "      <td>997.0</td>\n",
              "      <td>24.2</td>\n",
              "      <td>0.0</td>\n",
              "      <td>1.0</td>\n",
              "      <td>0</td>\n",
              "      <td>0</td>\n",
              "      <td>0</td>\n",
              "      <td>...</td>\n",
              "      <td>0</td>\n",
              "      <td>0</td>\n",
              "      <td>0</td>\n",
              "      <td>0</td>\n",
              "      <td>1</td>\n",
              "      <td>0</td>\n",
              "      <td>0</td>\n",
              "      <td>0</td>\n",
              "      <td>0</td>\n",
              "      <td>0</td>\n",
              "    </tr>\n",
              "    <tr>\n",
              "      <th>29761</th>\n",
              "      <td>145.0</td>\n",
              "      <td>0</td>\n",
              "      <td>27.7</td>\n",
              "      <td>997.1</td>\n",
              "      <td>24.3</td>\n",
              "      <td>0.0</td>\n",
              "      <td>0.9</td>\n",
              "      <td>0</td>\n",
              "      <td>0</td>\n",
              "      <td>0</td>\n",
              "      <td>...</td>\n",
              "      <td>0</td>\n",
              "      <td>0</td>\n",
              "      <td>0</td>\n",
              "      <td>0</td>\n",
              "      <td>0</td>\n",
              "      <td>1</td>\n",
              "      <td>0</td>\n",
              "      <td>0</td>\n",
              "      <td>0</td>\n",
              "      <td>0</td>\n",
              "    </tr>\n",
              "    <tr>\n",
              "      <th>29762</th>\n",
              "      <td>139.0</td>\n",
              "      <td>1</td>\n",
              "      <td>26.9</td>\n",
              "      <td>996.6</td>\n",
              "      <td>24.6</td>\n",
              "      <td>0.0</td>\n",
              "      <td>0.8</td>\n",
              "      <td>1</td>\n",
              "      <td>0</td>\n",
              "      <td>0</td>\n",
              "      <td>...</td>\n",
              "      <td>0</td>\n",
              "      <td>0</td>\n",
              "      <td>0</td>\n",
              "      <td>0</td>\n",
              "      <td>0</td>\n",
              "      <td>0</td>\n",
              "      <td>0</td>\n",
              "      <td>0</td>\n",
              "      <td>0</td>\n",
              "      <td>0</td>\n",
              "    </tr>\n",
              "    <tr>\n",
              "      <th>29763</th>\n",
              "      <td>128.0</td>\n",
              "      <td>2</td>\n",
              "      <td>26.6</td>\n",
              "      <td>996.3</td>\n",
              "      <td>24.8</td>\n",
              "      <td>0.0</td>\n",
              "      <td>0.4</td>\n",
              "      <td>0</td>\n",
              "      <td>0</td>\n",
              "      <td>0</td>\n",
              "      <td>...</td>\n",
              "      <td>0</td>\n",
              "      <td>0</td>\n",
              "      <td>0</td>\n",
              "      <td>0</td>\n",
              "      <td>0</td>\n",
              "      <td>0</td>\n",
              "      <td>0</td>\n",
              "      <td>0</td>\n",
              "      <td>0</td>\n",
              "      <td>0</td>\n",
              "    </tr>\n",
              "    <tr>\n",
              "      <th>29764</th>\n",
              "      <td>116.0</td>\n",
              "      <td>3</td>\n",
              "      <td>26.4</td>\n",
              "      <td>996.2</td>\n",
              "      <td>24.6</td>\n",
              "      <td>0.0</td>\n",
              "      <td>0.9</td>\n",
              "      <td>1</td>\n",
              "      <td>0</td>\n",
              "      <td>0</td>\n",
              "      <td>...</td>\n",
              "      <td>0</td>\n",
              "      <td>0</td>\n",
              "      <td>0</td>\n",
              "      <td>0</td>\n",
              "      <td>0</td>\n",
              "      <td>0</td>\n",
              "      <td>0</td>\n",
              "      <td>0</td>\n",
              "      <td>0</td>\n",
              "      <td>0</td>\n",
              "    </tr>\n",
              "  </tbody>\n",
              "</table>\n",
              "<p>29141 rows × 23 columns</p>\n",
              "</div>\n",
              "    <div class=\"colab-df-buttons\">\n",
              "\n",
              "  <div class=\"colab-df-container\">\n",
              "    <button class=\"colab-df-convert\" onclick=\"convertToInteractive('df-a71d4a99-63d8-47a0-8e12-94329d643c9d')\"\n",
              "            title=\"Convert this dataframe to an interactive table.\"\n",
              "            style=\"display:none;\">\n",
              "\n",
              "  <svg xmlns=\"http://www.w3.org/2000/svg\" height=\"24px\" viewBox=\"0 -960 960 960\">\n",
              "    <path d=\"M120-120v-720h720v720H120Zm60-500h600v-160H180v160Zm220 220h160v-160H400v160Zm0 220h160v-160H400v160ZM180-400h160v-160H180v160Zm440 0h160v-160H620v160ZM180-180h160v-160H180v160Zm440 0h160v-160H620v160Z\"/>\n",
              "  </svg>\n",
              "    </button>\n",
              "\n",
              "  <style>\n",
              "    .colab-df-container {\n",
              "      display:flex;\n",
              "      gap: 12px;\n",
              "    }\n",
              "\n",
              "    .colab-df-convert {\n",
              "      background-color: #E8F0FE;\n",
              "      border: none;\n",
              "      border-radius: 50%;\n",
              "      cursor: pointer;\n",
              "      display: none;\n",
              "      fill: #1967D2;\n",
              "      height: 32px;\n",
              "      padding: 0 0 0 0;\n",
              "      width: 32px;\n",
              "    }\n",
              "\n",
              "    .colab-df-convert:hover {\n",
              "      background-color: #E2EBFA;\n",
              "      box-shadow: 0px 1px 2px rgba(60, 64, 67, 0.3), 0px 1px 3px 1px rgba(60, 64, 67, 0.15);\n",
              "      fill: #174EA6;\n",
              "    }\n",
              "\n",
              "    .colab-df-buttons div {\n",
              "      margin-bottom: 4px;\n",
              "    }\n",
              "\n",
              "    [theme=dark] .colab-df-convert {\n",
              "      background-color: #3B4455;\n",
              "      fill: #D2E3FC;\n",
              "    }\n",
              "\n",
              "    [theme=dark] .colab-df-convert:hover {\n",
              "      background-color: #434B5C;\n",
              "      box-shadow: 0px 1px 3px 1px rgba(0, 0, 0, 0.15);\n",
              "      filter: drop-shadow(0px 1px 2px rgba(0, 0, 0, 0.3));\n",
              "      fill: #FFFFFF;\n",
              "    }\n",
              "  </style>\n",
              "\n",
              "    <script>\n",
              "      const buttonEl =\n",
              "        document.querySelector('#df-a71d4a99-63d8-47a0-8e12-94329d643c9d button.colab-df-convert');\n",
              "      buttonEl.style.display =\n",
              "        google.colab.kernel.accessAllowed ? 'block' : 'none';\n",
              "\n",
              "      async function convertToInteractive(key) {\n",
              "        const element = document.querySelector('#df-a71d4a99-63d8-47a0-8e12-94329d643c9d');\n",
              "        const dataTable =\n",
              "          await google.colab.kernel.invokeFunction('convertToInteractive',\n",
              "                                                    [key], {});\n",
              "        if (!dataTable) return;\n",
              "\n",
              "        const docLinkHtml = 'Like what you see? Visit the ' +\n",
              "          '<a target=\"_blank\" href=https://colab.research.google.com/notebooks/data_table.ipynb>data table notebook</a>'\n",
              "          + ' to learn more about interactive tables.';\n",
              "        element.innerHTML = '';\n",
              "        dataTable['output_type'] = 'display_data';\n",
              "        await google.colab.output.renderOutput(dataTable, element);\n",
              "        const docLink = document.createElement('div');\n",
              "        docLink.innerHTML = docLinkHtml;\n",
              "        element.appendChild(docLink);\n",
              "      }\n",
              "    </script>\n",
              "  </div>\n",
              "\n",
              "\n",
              "<div id=\"df-36202466-8813-42c6-a9ec-d2f8839d3def\">\n",
              "  <button class=\"colab-df-quickchart\" onclick=\"quickchart('df-36202466-8813-42c6-a9ec-d2f8839d3def')\"\n",
              "            title=\"Suggest charts\"\n",
              "            style=\"display:none;\">\n",
              "\n",
              "<svg xmlns=\"http://www.w3.org/2000/svg\" height=\"24px\"viewBox=\"0 0 24 24\"\n",
              "     width=\"24px\">\n",
              "    <g>\n",
              "        <path d=\"M19 3H5c-1.1 0-2 .9-2 2v14c0 1.1.9 2 2 2h14c1.1 0 2-.9 2-2V5c0-1.1-.9-2-2-2zM9 17H7v-7h2v7zm4 0h-2V7h2v10zm4 0h-2v-4h2v4z\"/>\n",
              "    </g>\n",
              "</svg>\n",
              "  </button>\n",
              "\n",
              "<style>\n",
              "  .colab-df-quickchart {\n",
              "      --bg-color: #E8F0FE;\n",
              "      --fill-color: #1967D2;\n",
              "      --hover-bg-color: #E2EBFA;\n",
              "      --hover-fill-color: #174EA6;\n",
              "      --disabled-fill-color: #AAA;\n",
              "      --disabled-bg-color: #DDD;\n",
              "  }\n",
              "\n",
              "  [theme=dark] .colab-df-quickchart {\n",
              "      --bg-color: #3B4455;\n",
              "      --fill-color: #D2E3FC;\n",
              "      --hover-bg-color: #434B5C;\n",
              "      --hover-fill-color: #FFFFFF;\n",
              "      --disabled-bg-color: #3B4455;\n",
              "      --disabled-fill-color: #666;\n",
              "  }\n",
              "\n",
              "  .colab-df-quickchart {\n",
              "    background-color: var(--bg-color);\n",
              "    border: none;\n",
              "    border-radius: 50%;\n",
              "    cursor: pointer;\n",
              "    display: none;\n",
              "    fill: var(--fill-color);\n",
              "    height: 32px;\n",
              "    padding: 0;\n",
              "    width: 32px;\n",
              "  }\n",
              "\n",
              "  .colab-df-quickchart:hover {\n",
              "    background-color: var(--hover-bg-color);\n",
              "    box-shadow: 0 1px 2px rgba(60, 64, 67, 0.3), 0 1px 3px 1px rgba(60, 64, 67, 0.15);\n",
              "    fill: var(--button-hover-fill-color);\n",
              "  }\n",
              "\n",
              "  .colab-df-quickchart-complete:disabled,\n",
              "  .colab-df-quickchart-complete:disabled:hover {\n",
              "    background-color: var(--disabled-bg-color);\n",
              "    fill: var(--disabled-fill-color);\n",
              "    box-shadow: none;\n",
              "  }\n",
              "\n",
              "  .colab-df-spinner {\n",
              "    border: 2px solid var(--fill-color);\n",
              "    border-color: transparent;\n",
              "    border-bottom-color: var(--fill-color);\n",
              "    animation:\n",
              "      spin 1s steps(1) infinite;\n",
              "  }\n",
              "\n",
              "  @keyframes spin {\n",
              "    0% {\n",
              "      border-color: transparent;\n",
              "      border-bottom-color: var(--fill-color);\n",
              "      border-left-color: var(--fill-color);\n",
              "    }\n",
              "    20% {\n",
              "      border-color: transparent;\n",
              "      border-left-color: var(--fill-color);\n",
              "      border-top-color: var(--fill-color);\n",
              "    }\n",
              "    30% {\n",
              "      border-color: transparent;\n",
              "      border-left-color: var(--fill-color);\n",
              "      border-top-color: var(--fill-color);\n",
              "      border-right-color: var(--fill-color);\n",
              "    }\n",
              "    40% {\n",
              "      border-color: transparent;\n",
              "      border-right-color: var(--fill-color);\n",
              "      border-top-color: var(--fill-color);\n",
              "    }\n",
              "    60% {\n",
              "      border-color: transparent;\n",
              "      border-right-color: var(--fill-color);\n",
              "    }\n",
              "    80% {\n",
              "      border-color: transparent;\n",
              "      border-right-color: var(--fill-color);\n",
              "      border-bottom-color: var(--fill-color);\n",
              "    }\n",
              "    90% {\n",
              "      border-color: transparent;\n",
              "      border-bottom-color: var(--fill-color);\n",
              "    }\n",
              "  }\n",
              "</style>\n",
              "\n",
              "  <script>\n",
              "    async function quickchart(key) {\n",
              "      const quickchartButtonEl =\n",
              "        document.querySelector('#' + key + ' button');\n",
              "      quickchartButtonEl.disabled = true;  // To prevent multiple clicks.\n",
              "      quickchartButtonEl.classList.add('colab-df-spinner');\n",
              "      try {\n",
              "        const charts = await google.colab.kernel.invokeFunction(\n",
              "            'suggestCharts', [key], {});\n",
              "      } catch (error) {\n",
              "        console.error('Error during call to suggestCharts:', error);\n",
              "      }\n",
              "      quickchartButtonEl.classList.remove('colab-df-spinner');\n",
              "      quickchartButtonEl.classList.add('colab-df-quickchart-complete');\n",
              "    }\n",
              "    (() => {\n",
              "      let quickchartButtonEl =\n",
              "        document.querySelector('#df-36202466-8813-42c6-a9ec-d2f8839d3def button');\n",
              "      quickchartButtonEl.style.display =\n",
              "        google.colab.kernel.accessAllowed ? 'block' : 'none';\n",
              "    })();\n",
              "  </script>\n",
              "</div>\n",
              "\n",
              "  <div id=\"id_6c2d817c-4e92-4efa-867f-744fdaf82db4\">\n",
              "    <style>\n",
              "      .colab-df-generate {\n",
              "        background-color: #E8F0FE;\n",
              "        border: none;\n",
              "        border-radius: 50%;\n",
              "        cursor: pointer;\n",
              "        display: none;\n",
              "        fill: #1967D2;\n",
              "        height: 32px;\n",
              "        padding: 0 0 0 0;\n",
              "        width: 32px;\n",
              "      }\n",
              "\n",
              "      .colab-df-generate:hover {\n",
              "        background-color: #E2EBFA;\n",
              "        box-shadow: 0px 1px 2px rgba(60, 64, 67, 0.3), 0px 1px 3px 1px rgba(60, 64, 67, 0.15);\n",
              "        fill: #174EA6;\n",
              "      }\n",
              "\n",
              "      [theme=dark] .colab-df-generate {\n",
              "        background-color: #3B4455;\n",
              "        fill: #D2E3FC;\n",
              "      }\n",
              "\n",
              "      [theme=dark] .colab-df-generate:hover {\n",
              "        background-color: #434B5C;\n",
              "        box-shadow: 0px 1px 3px 1px rgba(0, 0, 0, 0.15);\n",
              "        filter: drop-shadow(0px 1px 2px rgba(0, 0, 0, 0.3));\n",
              "        fill: #FFFFFF;\n",
              "      }\n",
              "    </style>\n",
              "    <button class=\"colab-df-generate\" onclick=\"generateWithVariable('train_df_wdencoded')\"\n",
              "            title=\"Generate code using this dataframe.\"\n",
              "            style=\"display:none;\">\n",
              "\n",
              "  <svg xmlns=\"http://www.w3.org/2000/svg\" height=\"24px\"viewBox=\"0 0 24 24\"\n",
              "       width=\"24px\">\n",
              "    <path d=\"M7,19H8.4L18.45,9,17,7.55,7,17.6ZM5,21V16.75L18.45,3.32a2,2,0,0,1,2.83,0l1.4,1.43a1.91,1.91,0,0,1,.58,1.4,1.91,1.91,0,0,1-.58,1.4L9.25,21ZM18.45,9,17,7.55Zm-12,3A5.31,5.31,0,0,0,4.9,8.1,5.31,5.31,0,0,0,1,6.5,5.31,5.31,0,0,0,4.9,4.9,5.31,5.31,0,0,0,6.5,1,5.31,5.31,0,0,0,8.1,4.9,5.31,5.31,0,0,0,12,6.5,5.46,5.46,0,0,0,6.5,12Z\"/>\n",
              "  </svg>\n",
              "    </button>\n",
              "    <script>\n",
              "      (() => {\n",
              "      const buttonEl =\n",
              "        document.querySelector('#id_6c2d817c-4e92-4efa-867f-744fdaf82db4 button.colab-df-generate');\n",
              "      buttonEl.style.display =\n",
              "        google.colab.kernel.accessAllowed ? 'block' : 'none';\n",
              "\n",
              "      buttonEl.onclick = () => {\n",
              "        google.colab.notebook.generateWithVariable('train_df_wdencoded');\n",
              "      }\n",
              "      })();\n",
              "    </script>\n",
              "  </div>\n",
              "\n",
              "    </div>\n",
              "  </div>\n"
            ],
            "application/vnd.google.colaboratory.intrinsic+json": {
              "type": "dataframe",
              "variable_name": "train_df_wdencoded"
            }
          },
          "metadata": {},
          "execution_count": 180
        }
      ],
      "source": [
        "def add_wd_onehot(df):\n",
        "    \"\"\"Add new one-hot encoding set of columns, removes the old column it's made from. Returns new dataframe.\"\"\"\n",
        "    # Get one hot encoding of column 'wd'\n",
        "    onehot_df = pd.get_dummies(df.wd, prefix='wd')\n",
        "    # Drop column as it is now encoded\n",
        "    df = df.drop(columns=['wd'], axis=1)\n",
        "    # Join the encoded df\n",
        "    onehot_df = df.join(onehot_df)\n",
        "    return onehot_df\n",
        "\n",
        "train_df_wdencoded = add_wd_onehot(train_df)\n",
        "train_df_wdencoded"
      ]
    },
    {
      "cell_type": "markdown",
      "metadata": {
        "id": "7ej8723kxGEP"
      },
      "source": [
        "### Data Standardization\n",
        "\n",
        "Make the mean zero and the standard deviation one."
      ]
    },
    {
      "cell_type": "code",
      "execution_count": 181,
      "metadata": {
        "id": "wKZAtoINxGEP"
      },
      "outputs": [],
      "source": [
        "def standardise(df):\n",
        "    \"\"\"\n",
        "    Returns a new dataframe in which all but the PM2.5 columns are standardised (i.e. have a mean of zero and standard deviation of 1).\n",
        "    \"\"\"\n",
        "    for col in df.iloc[:,1:].columns:\n",
        "      df[col] = (df[col]-df[col].mean())/df[col].std()\n",
        "    df_standardized = df.iloc[:,:1].join(df.iloc[:,1:])\n",
        "    return df_standardized\n",
        "\n",
        "train_df_preprocessed = standardise(add_wd_onehot(train_df))\n",
        "test_df_preprocessed = standardise(add_wd_onehot(test_df))"
      ]
    },
    {
      "cell_type": "markdown",
      "metadata": {
        "id": "ZYSiN_dDxGEP"
      },
      "source": [
        "Seperate the features (X) from the output (y) and put them into arrays."
      ]
    },
    {
      "cell_type": "code",
      "execution_count": 182,
      "metadata": {
        "id": "Q4eLFe7fxGEP"
      },
      "outputs": [],
      "source": [
        "X_train = train_df_preprocessed.iloc[:,1:].to_numpy()\n",
        "y_train = train_df_preprocessed.iloc[:,0].to_numpy()\n",
        "\n",
        "X_test = test_df_preprocessed.iloc[:,1:].to_numpy()\n",
        "y_test = test_df_preprocessed.iloc[:,0].to_numpy()"
      ]
    },
    {
      "cell_type": "code",
      "source": [
        "X_train.shape[1]"
      ],
      "metadata": {
        "colab": {
          "base_uri": "https://localhost:8080/"
        },
        "id": "A2PN7T8K3ZV1",
        "outputId": "4b1285f6-24bb-4925-8a3a-4d9ca9e0b7fa"
      },
      "execution_count": 183,
      "outputs": [
        {
          "output_type": "execute_result",
          "data": {
            "text/plain": [
              "22"
            ]
          },
          "metadata": {},
          "execution_count": 183
        }
      ]
    },
    {
      "cell_type": "markdown",
      "source": [
        "## Fitting the Lasso Model and Model Evaluation (via RMSE)"
      ],
      "metadata": {
        "id": "w-fmRFEN5R_C"
      }
    },
    {
      "cell_type": "markdown",
      "source": [
        "Let evaluate the performance of the sklearn classifier using RMSE."
      ],
      "metadata": {
        "id": "vqMBH_M25zjn"
      }
    },
    {
      "cell_type": "code",
      "source": [
        "#tain sklearn's lasso classifier\n",
        "clf = linear_model.Lasso(alpha=0.1,fit_intercept=True) #we'll turn fit_intercept on, as we've not added a '1's column to our design matrix.\n",
        "clf.fit(X_train,y_train)\n",
        "\n",
        "#predicted and evaluate\n",
        "rmse_sklearn_train = np.sqrt(np.mean((clf.predict(X_train)-y_train)**2))\n",
        "rmse_sklearn_test = np.sqrt(np.mean((clf.predict(X_test)-y_test)**2))\n",
        "\n",
        "rmse_sklearn_train,rmse_sklearn_test"
      ],
      "metadata": {
        "colab": {
          "base_uri": "https://localhost:8080/"
        },
        "id": "uQcub1kF6s03",
        "outputId": "eed598d6-8caf-44d2-9724-43e852fb6bb4"
      },
      "execution_count": 336,
      "outputs": [
        {
          "output_type": "execute_result",
          "data": {
            "text/plain": [
              "(72.40451940025356, 88.63619480960364)"
            ]
          },
          "metadata": {},
          "execution_count": 336
        }
      ]
    },
    {
      "cell_type": "markdown",
      "metadata": {
        "id": "7Hy1DoQuLbCs"
      },
      "source": [
        "The performance can be much better."
      ]
    },
    {
      "cell_type": "markdown",
      "metadata": {
        "id": "_DoEHUZ7Lrb0"
      },
      "source": [
        "## Random Forest\n",
        "\n",
        "To get better predictions, we will used a random forest regressor as a linear model is not enought to capture our data.\n",
        "\n",
        "To find the best parameters for making predictions, we will use a cross-validated grid search.\n",
        "\n",
        "\n",
        "\n",
        "The final step is to use a random forest regressor.\n",
        "\n",
        "If we use the default random forest regressor, we find we get considerable over-fitting. So we need to explore different parameters. We will use a cross-validated grid search over the parameters:\n",
        "\n",
        "- max_features: The number of features to consider when looking for the best split (i.e. controls subsampling), *from 1 to the number of features* in 4 steps (e.g. use `np.linspace`)\n",
        "- n_estimators: The number of trees in the forest, from 10 to 100 in 4 steps.\n",
        "- max_samples : the number of samples to draw from to train each base estimator, from 0.1 to 0.9 in 4 steps.\n",
        "\n",
        "We will use `GridSearchCV`.\n",
        "\n",
        "Have a look at the documentation for this, the three parameters we need to specify are:\n",
        "\n",
        "- the 'estimator': an **INSTANCE** of RandomForestRegressor.\n",
        "- param_grid: a **DICTIONARY**, each item is the title of the parameter, and equals an array of the values we need to test. For exmaple, one of the items might be `{'max_samples': np.linspace(0.1, 0.9, 5)}`.\n",
        "- You'll need to think carefully how to make the lists for the `max_features` and `n_estimators` as these both need to be (positive) integers. E.g. use `.astype(int)`."
      ]
    },
    {
      "cell_type": "code",
      "execution_count": 332,
      "metadata": {
        "colab": {
          "base_uri": "https://localhost:8080/",
          "height": 214
        },
        "outputId": "6448a511-1792-4d02-dc64-6740469dbbda",
        "id": "xZnxAVy9LrcM"
      },
      "outputs": [
        {
          "output_type": "execute_result",
          "data": {
            "text/plain": [
              "GridSearchCV(estimator=RandomForestRegressor(),\n",
              "             param_grid={'max_features': array([ 1,  8, 15, 22]),\n",
              "                         'max_samples': array([0.1       , 0.36666667, 0.63333333, 0.9       ]),\n",
              "                         'n_estimators': array([ 10,  40,  70, 100])})"
            ],
            "text/html": [
              "<style>#sk-container-id-1 {color: black;background-color: white;}#sk-container-id-1 pre{padding: 0;}#sk-container-id-1 div.sk-toggleable {background-color: white;}#sk-container-id-1 label.sk-toggleable__label {cursor: pointer;display: block;width: 100%;margin-bottom: 0;padding: 0.3em;box-sizing: border-box;text-align: center;}#sk-container-id-1 label.sk-toggleable__label-arrow:before {content: \"▸\";float: left;margin-right: 0.25em;color: #696969;}#sk-container-id-1 label.sk-toggleable__label-arrow:hover:before {color: black;}#sk-container-id-1 div.sk-estimator:hover label.sk-toggleable__label-arrow:before {color: black;}#sk-container-id-1 div.sk-toggleable__content {max-height: 0;max-width: 0;overflow: hidden;text-align: left;background-color: #f0f8ff;}#sk-container-id-1 div.sk-toggleable__content pre {margin: 0.2em;color: black;border-radius: 0.25em;background-color: #f0f8ff;}#sk-container-id-1 input.sk-toggleable__control:checked~div.sk-toggleable__content {max-height: 200px;max-width: 100%;overflow: auto;}#sk-container-id-1 input.sk-toggleable__control:checked~label.sk-toggleable__label-arrow:before {content: \"▾\";}#sk-container-id-1 div.sk-estimator input.sk-toggleable__control:checked~label.sk-toggleable__label {background-color: #d4ebff;}#sk-container-id-1 div.sk-label input.sk-toggleable__control:checked~label.sk-toggleable__label {background-color: #d4ebff;}#sk-container-id-1 input.sk-hidden--visually {border: 0;clip: rect(1px 1px 1px 1px);clip: rect(1px, 1px, 1px, 1px);height: 1px;margin: -1px;overflow: hidden;padding: 0;position: absolute;width: 1px;}#sk-container-id-1 div.sk-estimator {font-family: monospace;background-color: #f0f8ff;border: 1px dotted black;border-radius: 0.25em;box-sizing: border-box;margin-bottom: 0.5em;}#sk-container-id-1 div.sk-estimator:hover {background-color: #d4ebff;}#sk-container-id-1 div.sk-parallel-item::after {content: \"\";width: 100%;border-bottom: 1px solid gray;flex-grow: 1;}#sk-container-id-1 div.sk-label:hover label.sk-toggleable__label {background-color: #d4ebff;}#sk-container-id-1 div.sk-serial::before {content: \"\";position: absolute;border-left: 1px solid gray;box-sizing: border-box;top: 0;bottom: 0;left: 50%;z-index: 0;}#sk-container-id-1 div.sk-serial {display: flex;flex-direction: column;align-items: center;background-color: white;padding-right: 0.2em;padding-left: 0.2em;position: relative;}#sk-container-id-1 div.sk-item {position: relative;z-index: 1;}#sk-container-id-1 div.sk-parallel {display: flex;align-items: stretch;justify-content: center;background-color: white;position: relative;}#sk-container-id-1 div.sk-item::before, #sk-container-id-1 div.sk-parallel-item::before {content: \"\";position: absolute;border-left: 1px solid gray;box-sizing: border-box;top: 0;bottom: 0;left: 50%;z-index: -1;}#sk-container-id-1 div.sk-parallel-item {display: flex;flex-direction: column;z-index: 1;position: relative;background-color: white;}#sk-container-id-1 div.sk-parallel-item:first-child::after {align-self: flex-end;width: 50%;}#sk-container-id-1 div.sk-parallel-item:last-child::after {align-self: flex-start;width: 50%;}#sk-container-id-1 div.sk-parallel-item:only-child::after {width: 0;}#sk-container-id-1 div.sk-dashed-wrapped {border: 1px dashed gray;margin: 0 0.4em 0.5em 0.4em;box-sizing: border-box;padding-bottom: 0.4em;background-color: white;}#sk-container-id-1 div.sk-label label {font-family: monospace;font-weight: bold;display: inline-block;line-height: 1.2em;}#sk-container-id-1 div.sk-label-container {text-align: center;}#sk-container-id-1 div.sk-container {/* jupyter's `normalize.less` sets `[hidden] { display: none; }` but bootstrap.min.css set `[hidden] { display: none !important; }` so we also need the `!important` here to be able to override the default hidden behavior on the sphinx rendered scikit-learn.org. See: https://github.com/scikit-learn/scikit-learn/issues/21755 */display: inline-block !important;position: relative;}#sk-container-id-1 div.sk-text-repr-fallback {display: none;}</style><div id=\"sk-container-id-1\" class=\"sk-top-container\"><div class=\"sk-text-repr-fallback\"><pre>GridSearchCV(estimator=RandomForestRegressor(),\n",
              "             param_grid={&#x27;max_features&#x27;: array([ 1,  8, 15, 22]),\n",
              "                         &#x27;max_samples&#x27;: array([0.1       , 0.36666667, 0.63333333, 0.9       ]),\n",
              "                         &#x27;n_estimators&#x27;: array([ 10,  40,  70, 100])})</pre><b>In a Jupyter environment, please rerun this cell to show the HTML representation or trust the notebook. <br />On GitHub, the HTML representation is unable to render, please try loading this page with nbviewer.org.</b></div><div class=\"sk-container\" hidden><div class=\"sk-item sk-dashed-wrapped\"><div class=\"sk-label-container\"><div class=\"sk-label sk-toggleable\"><input class=\"sk-toggleable__control sk-hidden--visually\" id=\"sk-estimator-id-1\" type=\"checkbox\" ><label for=\"sk-estimator-id-1\" class=\"sk-toggleable__label sk-toggleable__label-arrow\">GridSearchCV</label><div class=\"sk-toggleable__content\"><pre>GridSearchCV(estimator=RandomForestRegressor(),\n",
              "             param_grid={&#x27;max_features&#x27;: array([ 1,  8, 15, 22]),\n",
              "                         &#x27;max_samples&#x27;: array([0.1       , 0.36666667, 0.63333333, 0.9       ]),\n",
              "                         &#x27;n_estimators&#x27;: array([ 10,  40,  70, 100])})</pre></div></div></div><div class=\"sk-parallel\"><div class=\"sk-parallel-item\"><div class=\"sk-item\"><div class=\"sk-label-container\"><div class=\"sk-label sk-toggleable\"><input class=\"sk-toggleable__control sk-hidden--visually\" id=\"sk-estimator-id-2\" type=\"checkbox\" ><label for=\"sk-estimator-id-2\" class=\"sk-toggleable__label sk-toggleable__label-arrow\">estimator: RandomForestRegressor</label><div class=\"sk-toggleable__content\"><pre>RandomForestRegressor()</pre></div></div></div><div class=\"sk-serial\"><div class=\"sk-item\"><div class=\"sk-estimator sk-toggleable\"><input class=\"sk-toggleable__control sk-hidden--visually\" id=\"sk-estimator-id-3\" type=\"checkbox\" ><label for=\"sk-estimator-id-3\" class=\"sk-toggleable__label sk-toggleable__label-arrow\">RandomForestRegressor</label><div class=\"sk-toggleable__content\"><pre>RandomForestRegressor()</pre></div></div></div></div></div></div></div></div></div></div>"
            ]
          },
          "metadata": {},
          "execution_count": 332
        }
      ],
      "source": [
        "#1. Create a grid of parameter values for n_estimators, max_features and max_samples,\n",
        "n_estimators = np.linspace(10, 100, 4).astype(int)\n",
        "max_features = np.linspace(1, X_train.shape[1], 4).astype(int)\n",
        "max_samples = np.linspace(0.1, 0.9, 4)\n",
        "param_grid = dict(n_estimators=n_estimators,max_features=max_features,max_samples=max_samples)\n",
        "#2. Create a GridSearchCV object, using the random forest regressor:\n",
        "grid_regression = GridSearchCV(RandomForestRegressor(), param_grid=param_grid)\n",
        "#Note: Because there is so much training data, using the full dataset takes too long. So here we'll just use 10%\n",
        "np.random.seed(42)\n",
        "idx = np.sort(np.random.choice(len(X_train), size=int(len(X_train)*0.1), replace=False))\n",
        "#3. Fit to training data in (the subset of) X_train and y_train\n",
        "grid_regression.fit(X_train[idx,:],y_train[idx])"
      ]
    },
    {
      "cell_type": "markdown",
      "metadata": {
        "id": "7KFZ5Q9SLrcM"
      },
      "source": [
        "Here we print the best parameters from the grid search (on the training/validation cross-validation run):"
      ]
    },
    {
      "cell_type": "code",
      "execution_count": 333,
      "metadata": {
        "colab": {
          "base_uri": "https://localhost:8080/"
        },
        "outputId": "8098dab1-be8e-4cff-b9f3-799add5f5850",
        "id": "clinl80gLrcM"
      },
      "outputs": [
        {
          "output_type": "stream",
          "name": "stdout",
          "text": [
            "Best n_estimator 40\n",
            "Best max features 8\n",
            "Best max samples 0.6333333333333333\n"
          ]
        }
      ],
      "source": [
        "best_n_estimators = grid_regression.best_params_['n_estimators']\n",
        "best_max_features = grid_regression.best_params_['max_features']\n",
        "best_max_samples = grid_regression.best_params_['max_samples']\n",
        "print('Best n_estimator', best_n_estimators)\n",
        "print('Best max features', best_max_features)\n",
        "print('Best max samples', best_max_samples)"
      ]
    },
    {
      "cell_type": "markdown",
      "metadata": {
        "id": "aFQnSg65LrcM"
      },
      "source": [
        "Finally compute the RMSE for the training and test data:"
      ]
    },
    {
      "cell_type": "code",
      "execution_count": 334,
      "metadata": {
        "colab": {
          "base_uri": "https://localhost:8080/"
        },
        "outputId": "c584a9d4-4bc3-4a5d-ec26-a931effc0c52",
        "id": "5N_gcXJCLrcM"
      },
      "outputs": [
        {
          "output_type": "execute_result",
          "data": {
            "text/plain": [
              "(64.08343121285556, 85.98106311956076)"
            ]
          },
          "metadata": {},
          "execution_count": 334
        }
      ],
      "source": [
        "#Put answer here\n",
        "rmse_rf_train = np.sqrt(np.mean((grid_regression.predict(X_train)-y_train)**2))\n",
        "rmse_rf_test = np.sqrt(np.mean((grid_regression.predict(X_test)-y_test)**2))\n",
        "\n",
        "rmse_rf_train,rmse_rf_test"
      ]
    },
    {
      "cell_type": "markdown",
      "metadata": {
        "id": "yARhlmSMLrcM"
      },
      "source": [
        "We can compare this to the standard deviations for the two sets of data."
      ]
    },
    {
      "cell_type": "code",
      "execution_count": 335,
      "metadata": {
        "colab": {
          "base_uri": "https://localhost:8080/"
        },
        "outputId": "9438c52a-5155-4f83-b5f2-88778d7c3a22",
        "id": "yDLdOxcgLrcM"
      },
      "outputs": [
        {
          "output_type": "execute_result",
          "data": {
            "text/plain": [
              "(82.43136001277581, 103.25109103178704)"
            ]
          },
          "metadata": {},
          "execution_count": 335
        }
      ],
      "source": [
        "np.std(y_train), np.std(y_test)"
      ]
    },
    {
      "cell_type": "markdown",
      "source": [
        "### Did the random forest do better than lasso regression?\n",
        "\n",
        "Yes, Random Forest performed better than the Lasso Regressor because Random Forest had a lower RMSE for both training and testing sets: `(64.08343121285556, 85.98106311956076)`, respectively, than the Lasso Regressor: `(72.40451940025356, 88.63619480960364)`."
      ],
      "metadata": {
        "id": "e-IBRfJeOWGz"
      }
    }
  ],
  "metadata": {
    "colab": {
      "provenance": [],
      "collapsed_sections": [
        "oQKg3AFPcYHx",
        "8ePRfNOEcYH1",
        "UoskxkwycYH3"
      ]
    },
    "kernelspec": {
      "display_name": "Python 3",
      "language": "python",
      "name": "python3"
    },
    "language_info": {
      "codemirror_mode": {
        "name": "ipython",
        "version": 3
      },
      "file_extension": ".py",
      "mimetype": "text/x-python",
      "name": "python",
      "nbconvert_exporter": "python",
      "pygments_lexer": "ipython3",
      "version": "3.8.3"
    }
  },
  "nbformat": 4,
  "nbformat_minor": 0
}